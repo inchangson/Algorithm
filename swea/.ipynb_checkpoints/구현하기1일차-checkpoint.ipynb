{
 "cells": [
  {
   "cell_type": "markdown",
   "id": "3f9d26c9",
   "metadata": {},
   "source": [
    "# 이진수"
   ]
  },
  {
   "cell_type": "code",
   "execution_count": 7,
   "id": "c82f6d70",
   "metadata": {},
   "outputs": [
    {
     "name": "stdout",
     "output_type": "stream",
     "text": [
      "3\n",
      "4 47FE\n",
      "#1 0100011111111110\n",
      "5 79E12\n",
      "#2 01111001111000010010\n",
      "8 41DA16CD\n",
      "#3 01000001110110100001011011001101\n"
     ]
    }
   ],
   "source": [
    "T = int(input()) + 1\n",
    "hexaTable = [\"0000\", \"0001\", \"0010\", \"0011\",\n",
    "             \"0100\", \"0101\", \"0110\", \"0111\",\n",
    "             \"1000\", \"1001\", \"1010\", \"1011\",\n",
    "             \"1100\", \"1101\", \"1110\", \"1111\"]\n",
    "for t in range(1, T):\n",
    "    leng, data = input().split()\n",
    "    leng = int(leng)\n",
    "    ans = ''\n",
    "    for n in data:\n",
    "        if '0' <= n <= '9':\n",
    "            n = ord(n) - ord('0')\n",
    "        else:\n",
    "            n = ord(n) - ord('A') + 10\n",
    "        ans += hexaTable[n]\n",
    "    print(f'#{t} {ans}')"
   ]
  },
  {
   "cell_type": "markdown",
   "id": "72c2ce23",
   "metadata": {},
   "source": [
    "# 이진수 2"
   ]
  },
  {
   "cell_type": "code",
   "execution_count": null,
   "id": "6b7c4eb5",
   "metadata": {},
   "outputs": [],
   "source": []
  }
 ],
 "metadata": {
  "kernelspec": {
   "display_name": "Python 3",
   "language": "python",
   "name": "python3"
  },
  "language_info": {
   "codemirror_mode": {
    "name": "ipython",
    "version": 3
   },
   "file_extension": ".py",
   "mimetype": "text/x-python",
   "name": "python",
   "nbconvert_exporter": "python",
   "pygments_lexer": "ipython3",
   "version": "3.8.8"
  }
 },
 "nbformat": 4,
 "nbformat_minor": 5
}
